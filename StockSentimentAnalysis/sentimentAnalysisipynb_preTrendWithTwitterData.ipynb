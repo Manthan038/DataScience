{
  "nbformat": 4,
  "nbformat_minor": 0,
  "metadata": {
    "colab": {
      "provenance": []
    },
    "kernelspec": {
      "name": "python3",
      "display_name": "Python 3"
    },
    "language_info": {
      "name": "python"
    }
  },
  "cells": [
    {
      "cell_type": "code",
      "execution_count": null,
      "metadata": {
        "id": "O7V-ucVPl8F9"
      },
      "outputs": [],
      "source": [
        "from transformers import AutoTokenizer, AutoModelForSequenceClassification\n",
        "from scipy.special import softmax"
      ]
    },
    {
      "cell_type": "code",
      "source": [
        "tweet = '@evry: AAP MOVIE. 55% return for the FEA/GEED indicator just 15 trades for the year.  AWESOME.'\n",
        "\n",
        "# pre-process tweet and get rid of any @mention and url http\n",
        "tweet_words = []\n",
        "\n",
        "for word in tweet.split(' '):\n",
        "    if word.startswith('@') and len(word) > 1:\n",
        "        word = '@user'\n",
        "\n",
        "    elif word.startswith('http'):\n",
        "        word = \"http\"\n",
        "    tweet_words.append(word)\n",
        "\n",
        "tweet_proc = \" \".join(tweet_words)\n",
        "print(tweet_proc)"
      ],
      "metadata": {
        "colab": {
          "base_uri": "https://localhost:8080/"
        },
        "id": "3hbWcWeNm0qQ",
        "outputId": "f4ff4aac-fd2a-427c-e04c-259360a7536b"
      },
      "execution_count": null,
      "outputs": [
        {
          "output_type": "stream",
          "name": "stdout",
          "text": [
            "@user AAP MOVIE. 55% return for the FEA/GEED indicator just 15 trades for the year.  AWESOME.\n"
          ]
        }
      ]
    },
    {
      "cell_type": "code",
      "source": [
        "roberta = \"cardiffnlp/twitter-roberta-base-sentiment\"\n",
        "\n",
        "model = AutoModelForSequenceClassification.from_pretrained(roberta)\n",
        "tokenizer = AutoTokenizer.from_pretrained(roberta)\n",
        "\n",
        "labels = ['Negative', 'Neutral', 'Positive']"
      ],
      "metadata": {
        "id": "SQ3_tC24mbly"
      },
      "execution_count": null,
      "outputs": []
    },
    {
      "cell_type": "code",
      "source": [
        "encoded_tweet = tokenizer(tweet_proc, return_tensors='pt')\n",
        "print(encoded_tweet)"
      ],
      "metadata": {
        "colab": {
          "base_uri": "https://localhost:8080/"
        },
        "id": "LMVYFJ98mnid",
        "outputId": "c915660b-229b-45a5-a37c-518ab85daa23"
      },
      "execution_count": null,
      "outputs": [
        {
          "output_type": "stream",
          "name": "stdout",
          "text": [
            "{'input_ids': tensor([[    0,  1039, 12105, 13382, 34178,  7720,     4,  3490,   207,   671,\n",
            "            13,     5,   274, 14684,    73,  8800,  1691,  9189,    95,   379,\n",
            "          4274,    13,     5,    76,     4,  1437, 18463,  1723, 25073,     4,\n",
            "             2]]), 'attention_mask': tensor([[1, 1, 1, 1, 1, 1, 1, 1, 1, 1, 1, 1, 1, 1, 1, 1, 1, 1, 1, 1, 1, 1, 1, 1,\n",
            "         1, 1, 1, 1, 1, 1, 1]])}\n"
          ]
        }
      ]
    },
    {
      "cell_type": "code",
      "source": [
        "output = model(**encoded_tweet)\n",
        "\n",
        "scores = output[0][0].detach().numpy()\n",
        "scores = softmax(scores)\n",
        "for i in range(len(scores)):\n",
        "\n",
        "    l = labels[i]\n",
        "    s = scores[i]\n",
        "    print(l,s)"
      ],
      "metadata": {
        "colab": {
          "base_uri": "https://localhost:8080/"
        },
        "id": "sRgNzddYm8ow",
        "outputId": "50361f49-36df-48fe-a0d3-b725fb630f34"
      },
      "execution_count": null,
      "outputs": [
        {
          "output_type": "stream",
          "name": "stdout",
          "text": [
            "Negative 0.003045169\n",
            "Neutral 0.030400787\n",
            "Positive 0.9665541\n"
          ]
        }
      ]
    }
  ]
}